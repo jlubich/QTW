{
 "cells": [
  {
   "cell_type": "markdown",
   "metadata": {},
   "source": [
    "## More example applications"
   ]
  },
  {
   "cell_type": "markdown",
   "metadata": {},
   "source": [
    "### Signal frontier analysis"
   ]
  },
  {
   "cell_type": "code",
   "execution_count": 9,
   "metadata": {
    "collapsed": false
   },
   "outputs": [],
   "source": [
    "import datetime\n",
    "import pandas as pd\n",
    "import numpy as np\n",
    "import matplotlib.pyplot as plt\n",
    "\n",
    "start_dt=datetime.datetime(2009,1,1)\n",
    "end_dt=datetime.datetime(2012,6,1)\n",
    "from pandas_datareader import data as web\n",
    "stock='AAPL'\n",
    "px=pd.DataFrame({'AAPL':web.get_data_yahoo(stock, start_dt, end_dt)['Adj Close']})\n",
    "names=['GOOG','MSFT', 'GS','INTC', 'MS', 'BAC', 'C']\n",
    "for stock in names:\n",
    "    while True:\n",
    "        try:\n",
    "            px[stock]=web.get_data_yahoo(stock, start_dt, end_dt)['Adj Close']\n",
    "            break\n",
    "        except:\n",
    "            print('Unable to read stock: {0}'.format(stock))\n",
    "            print('trying again')\n"
   ]
  },
  {
   "cell_type": "code",
   "execution_count": 10,
   "metadata": {
    "collapsed": true
   },
   "outputs": [],
   "source": [
    "#px = pd.read_csv('ch11/stock_px.csv')"
   ]
  },
  {
   "cell_type": "code",
   "execution_count": 11,
   "metadata": {
    "collapsed": false
   },
   "outputs": [],
   "source": [
    "plt.close('all')"
   ]
  },
  {
   "cell_type": "code",
   "execution_count": 12,
   "metadata": {
    "collapsed": false
   },
   "outputs": [
    {
     "data": {
      "text/plain": [
       "<matplotlib.axes._subplots.AxesSubplot at 0x3f2e4e0>"
      ]
     },
     "execution_count": 12,
     "metadata": {},
     "output_type": "execute_result"
    }
   ],
   "source": [
    "px = px.asfreq('B').fillna(method='pad')\n",
    "rets = px.pct_change()\n",
    "((1 + rets).cumprod() - 1).plot()"
   ]
  },
  {
   "cell_type": "code",
   "execution_count": 13,
   "metadata": {
    "collapsed": true
   },
   "outputs": [],
   "source": [
    "def calc_mom(price, lookback, lag):\n",
    "    mom_ret = price.shift(lag).pct_change(lookback)\n",
    "    ranks = mom_ret.rank(axis=1, ascending=False)\n",
    "    demeaned = ranks.subtract(ranks.mean(axis=1), axis=0)\n",
    "    return demeaned.divide(demeaned.std(axis=1), axis=0)"
   ]
  },
  {
   "cell_type": "code",
   "execution_count": 14,
   "metadata": {
    "collapsed": false
   },
   "outputs": [],
   "source": [
    "compound = lambda x : (1 + x).prod() - 1\n",
    "daily_sr = lambda x: x.mean() / x.std()\n",
    "\n",
    "def strat_sr(prices, lb, hold):\n",
    "    # Compute portfolio weights\n",
    "    freq = '%dB' % hold\n",
    "    port = calc_mom(prices, lb, lag=1)\n",
    "\n",
    "    daily_rets = prices.pct_change()\n",
    "\n",
    "    # Compute portfolio returns\n",
    "    #port = port.shift(1).resample(freq, how='first')\n",
    "    port = port.shift(1).resample(freq).first() #, how='first')\n",
    "    returns = daily_rets.resample(freq).apply(compound)\n",
    "    port_rets = (port * returns).sum(axis=1)\n",
    "\n",
    "    return daily_sr(port_rets) * np.sqrt(252 / hold)"
   ]
  },
  {
   "cell_type": "code",
   "execution_count": 15,
   "metadata": {
    "collapsed": false
   },
   "outputs": [
    {
     "data": {
      "text/plain": [
       "0.35244218483851608"
      ]
     },
     "execution_count": 15,
     "metadata": {},
     "output_type": "execute_result"
    }
   ],
   "source": [
    "strat_sr(px, 70, 30)"
   ]
  },
  {
   "cell_type": "code",
   "execution_count": 16,
   "metadata": {
    "collapsed": false
   },
   "outputs": [],
   "source": [
    "from collections import defaultdict\n",
    "\n",
    "lookbacks = range(20, 90, 5)\n",
    "holdings = range(20, 90, 5)\n",
    "dd = defaultdict(dict)\n",
    "for lb in lookbacks:\n",
    "    for hold in holdings:\n",
    "        dd[lb][hold] = strat_sr(px, lb, hold)\n",
    "\n",
    "ddf = pd.DataFrame(dd)\n",
    "ddf.index.name = 'Holding Period'\n",
    "ddf.columns.name = 'Lookback Period'"
   ]
  },
  {
   "cell_type": "code",
   "execution_count": 17,
   "metadata": {
    "collapsed": false
   },
   "outputs": [
    {
     "data": {
      "text/html": [
       "<div>\n",
       "<style scoped>\n",
       "    .dataframe tbody tr th:only-of-type {\n",
       "        vertical-align: middle;\n",
       "    }\n",
       "\n",
       "    .dataframe tbody tr th {\n",
       "        vertical-align: top;\n",
       "    }\n",
       "\n",
       "    .dataframe thead th {\n",
       "        text-align: right;\n",
       "    }\n",
       "</style>\n",
       "<table border=\"1\" class=\"dataframe\">\n",
       "  <thead>\n",
       "    <tr style=\"text-align: right;\">\n",
       "      <th>Lookback Period</th>\n",
       "      <th>20</th>\n",
       "      <th>25</th>\n",
       "      <th>30</th>\n",
       "      <th>35</th>\n",
       "      <th>40</th>\n",
       "      <th>45</th>\n",
       "      <th>50</th>\n",
       "      <th>55</th>\n",
       "      <th>60</th>\n",
       "      <th>65</th>\n",
       "      <th>70</th>\n",
       "      <th>75</th>\n",
       "      <th>80</th>\n",
       "      <th>85</th>\n",
       "    </tr>\n",
       "    <tr>\n",
       "      <th>Holding Period</th>\n",
       "      <th></th>\n",
       "      <th></th>\n",
       "      <th></th>\n",
       "      <th></th>\n",
       "      <th></th>\n",
       "      <th></th>\n",
       "      <th></th>\n",
       "      <th></th>\n",
       "      <th></th>\n",
       "      <th></th>\n",
       "      <th></th>\n",
       "      <th></th>\n",
       "      <th></th>\n",
       "      <th></th>\n",
       "    </tr>\n",
       "  </thead>\n",
       "  <tbody>\n",
       "    <tr>\n",
       "      <th>20</th>\n",
       "      <td>-0.506539</td>\n",
       "      <td>-0.635062</td>\n",
       "      <td>-0.693594</td>\n",
       "      <td>-0.609378</td>\n",
       "      <td>-0.078438</td>\n",
       "      <td>-0.636543</td>\n",
       "      <td>-0.015771</td>\n",
       "      <td>0.018017</td>\n",
       "      <td>0.055586</td>\n",
       "      <td>-0.093076</td>\n",
       "      <td>-0.091960</td>\n",
       "      <td>0.086202</td>\n",
       "      <td>0.076655</td>\n",
       "      <td>0.143128</td>\n",
       "    </tr>\n",
       "    <tr>\n",
       "      <th>25</th>\n",
       "      <td>-0.036261</td>\n",
       "      <td>0.060378</td>\n",
       "      <td>0.321525</td>\n",
       "      <td>0.379997</td>\n",
       "      <td>0.096943</td>\n",
       "      <td>0.087599</td>\n",
       "      <td>0.345740</td>\n",
       "      <td>0.420713</td>\n",
       "      <td>0.316453</td>\n",
       "      <td>0.338491</td>\n",
       "      <td>0.311224</td>\n",
       "      <td>-0.081075</td>\n",
       "      <td>-0.094650</td>\n",
       "      <td>-0.223975</td>\n",
       "    </tr>\n",
       "    <tr>\n",
       "      <th>30</th>\n",
       "      <td>-0.730025</td>\n",
       "      <td>-0.656360</td>\n",
       "      <td>-0.538480</td>\n",
       "      <td>-0.363146</td>\n",
       "      <td>-0.066197</td>\n",
       "      <td>-0.129353</td>\n",
       "      <td>0.110072</td>\n",
       "      <td>0.128934</td>\n",
       "      <td>0.233053</td>\n",
       "      <td>0.229879</td>\n",
       "      <td>0.352442</td>\n",
       "      <td>0.399556</td>\n",
       "      <td>0.186979</td>\n",
       "      <td>0.110632</td>\n",
       "    </tr>\n",
       "    <tr>\n",
       "      <th>35</th>\n",
       "      <td>-0.108609</td>\n",
       "      <td>0.103372</td>\n",
       "      <td>0.082990</td>\n",
       "      <td>0.650311</td>\n",
       "      <td>0.252828</td>\n",
       "      <td>0.308051</td>\n",
       "      <td>0.341147</td>\n",
       "      <td>0.476158</td>\n",
       "      <td>0.440549</td>\n",
       "      <td>0.378286</td>\n",
       "      <td>0.084437</td>\n",
       "      <td>0.003543</td>\n",
       "      <td>0.055474</td>\n",
       "      <td>0.104060</td>\n",
       "    </tr>\n",
       "    <tr>\n",
       "      <th>40</th>\n",
       "      <td>-0.243560</td>\n",
       "      <td>-0.290216</td>\n",
       "      <td>-0.422394</td>\n",
       "      <td>-0.404747</td>\n",
       "      <td>0.055972</td>\n",
       "      <td>-0.119520</td>\n",
       "      <td>-0.078666</td>\n",
       "      <td>0.093997</td>\n",
       "      <td>0.309298</td>\n",
       "      <td>0.144018</td>\n",
       "      <td>-0.025258</td>\n",
       "      <td>-0.056320</td>\n",
       "      <td>-0.038656</td>\n",
       "      <td>0.082771</td>\n",
       "    </tr>\n",
       "    <tr>\n",
       "      <th>45</th>\n",
       "      <td>0.353113</td>\n",
       "      <td>0.325406</td>\n",
       "      <td>0.339002</td>\n",
       "      <td>0.313961</td>\n",
       "      <td>0.366957</td>\n",
       "      <td>0.561694</td>\n",
       "      <td>0.474075</td>\n",
       "      <td>0.483056</td>\n",
       "      <td>0.481988</td>\n",
       "      <td>0.443656</td>\n",
       "      <td>0.484713</td>\n",
       "      <td>0.490460</td>\n",
       "      <td>0.465898</td>\n",
       "      <td>0.335682</td>\n",
       "    </tr>\n",
       "    <tr>\n",
       "      <th>50</th>\n",
       "      <td>0.357209</td>\n",
       "      <td>-0.283854</td>\n",
       "      <td>-0.012662</td>\n",
       "      <td>-0.079422</td>\n",
       "      <td>-0.183184</td>\n",
       "      <td>-0.213962</td>\n",
       "      <td>0.393442</td>\n",
       "      <td>0.607183</td>\n",
       "      <td>0.546785</td>\n",
       "      <td>0.516785</td>\n",
       "      <td>0.233110</td>\n",
       "      <td>0.432484</td>\n",
       "      <td>0.389677</td>\n",
       "      <td>0.368128</td>\n",
       "    </tr>\n",
       "    <tr>\n",
       "      <th>55</th>\n",
       "      <td>-0.669356</td>\n",
       "      <td>-0.583755</td>\n",
       "      <td>-0.534160</td>\n",
       "      <td>-0.155140</td>\n",
       "      <td>-0.376720</td>\n",
       "      <td>-0.282838</td>\n",
       "      <td>-0.214605</td>\n",
       "      <td>0.005517</td>\n",
       "      <td>-0.204439</td>\n",
       "      <td>-0.121295</td>\n",
       "      <td>0.094348</td>\n",
       "      <td>0.022490</td>\n",
       "      <td>0.091561</td>\n",
       "      <td>-0.102935</td>\n",
       "    </tr>\n",
       "    <tr>\n",
       "      <th>60</th>\n",
       "      <td>-0.450562</td>\n",
       "      <td>-0.604386</td>\n",
       "      <td>-0.591176</td>\n",
       "      <td>-0.495193</td>\n",
       "      <td>-0.230379</td>\n",
       "      <td>-0.291247</td>\n",
       "      <td>-0.296997</td>\n",
       "      <td>-0.294340</td>\n",
       "      <td>0.205928</td>\n",
       "      <td>0.277786</td>\n",
       "      <td>0.016349</td>\n",
       "      <td>-0.191714</td>\n",
       "      <td>0.053983</td>\n",
       "      <td>0.234133</td>\n",
       "    </tr>\n",
       "    <tr>\n",
       "      <th>65</th>\n",
       "      <td>-0.206017</td>\n",
       "      <td>-0.450033</td>\n",
       "      <td>-0.426786</td>\n",
       "      <td>-0.370801</td>\n",
       "      <td>-0.536819</td>\n",
       "      <td>-0.131680</td>\n",
       "      <td>-0.223126</td>\n",
       "      <td>-0.151281</td>\n",
       "      <td>-0.201045</td>\n",
       "      <td>0.453793</td>\n",
       "      <td>0.398709</td>\n",
       "      <td>0.373011</td>\n",
       "      <td>0.100480</td>\n",
       "      <td>0.179385</td>\n",
       "    </tr>\n",
       "    <tr>\n",
       "      <th>70</th>\n",
       "      <td>-0.318210</td>\n",
       "      <td>-0.298001</td>\n",
       "      <td>-0.444545</td>\n",
       "      <td>-0.356494</td>\n",
       "      <td>-0.451116</td>\n",
       "      <td>-0.394219</td>\n",
       "      <td>-0.329450</td>\n",
       "      <td>-0.261575</td>\n",
       "      <td>-0.196705</td>\n",
       "      <td>-0.281555</td>\n",
       "      <td>0.153653</td>\n",
       "      <td>0.049043</td>\n",
       "      <td>0.107041</td>\n",
       "      <td>0.167772</td>\n",
       "    </tr>\n",
       "    <tr>\n",
       "      <th>75</th>\n",
       "      <td>-0.631641</td>\n",
       "      <td>-0.564883</td>\n",
       "      <td>-0.648337</td>\n",
       "      <td>-0.570240</td>\n",
       "      <td>-0.509978</td>\n",
       "      <td>-0.690901</td>\n",
       "      <td>-0.613093</td>\n",
       "      <td>-0.651473</td>\n",
       "      <td>-0.675771</td>\n",
       "      <td>-0.583710</td>\n",
       "      <td>-0.605698</td>\n",
       "      <td>-0.317766</td>\n",
       "      <td>-0.418949</td>\n",
       "      <td>-0.530052</td>\n",
       "    </tr>\n",
       "    <tr>\n",
       "      <th>80</th>\n",
       "      <td>-0.196381</td>\n",
       "      <td>-0.297853</td>\n",
       "      <td>-0.601666</td>\n",
       "      <td>-0.855151</td>\n",
       "      <td>-0.656304</td>\n",
       "      <td>-0.710389</td>\n",
       "      <td>-0.710952</td>\n",
       "      <td>-0.759482</td>\n",
       "      <td>-0.680852</td>\n",
       "      <td>-0.664542</td>\n",
       "      <td>-0.653455</td>\n",
       "      <td>-0.354457</td>\n",
       "      <td>0.090161</td>\n",
       "      <td>0.036785</td>\n",
       "    </tr>\n",
       "    <tr>\n",
       "      <th>85</th>\n",
       "      <td>-0.236255</td>\n",
       "      <td>-0.017278</td>\n",
       "      <td>0.109955</td>\n",
       "      <td>-0.177437</td>\n",
       "      <td>-0.270171</td>\n",
       "      <td>-0.232691</td>\n",
       "      <td>-0.108584</td>\n",
       "      <td>-0.041773</td>\n",
       "      <td>-0.146097</td>\n",
       "      <td>-0.252981</td>\n",
       "      <td>-0.267717</td>\n",
       "      <td>0.088804</td>\n",
       "      <td>-0.067515</td>\n",
       "      <td>0.678474</td>\n",
       "    </tr>\n",
       "  </tbody>\n",
       "</table>\n",
       "</div>"
      ],
      "text/plain": [
       "Lookback Period        20        25        30        35        40        45  \\\n",
       "Holding Period                                                                \n",
       "20              -0.506539 -0.635062 -0.693594 -0.609378 -0.078438 -0.636543   \n",
       "25              -0.036261  0.060378  0.321525  0.379997  0.096943  0.087599   \n",
       "30              -0.730025 -0.656360 -0.538480 -0.363146 -0.066197 -0.129353   \n",
       "35              -0.108609  0.103372  0.082990  0.650311  0.252828  0.308051   \n",
       "40              -0.243560 -0.290216 -0.422394 -0.404747  0.055972 -0.119520   \n",
       "45               0.353113  0.325406  0.339002  0.313961  0.366957  0.561694   \n",
       "50               0.357209 -0.283854 -0.012662 -0.079422 -0.183184 -0.213962   \n",
       "55              -0.669356 -0.583755 -0.534160 -0.155140 -0.376720 -0.282838   \n",
       "60              -0.450562 -0.604386 -0.591176 -0.495193 -0.230379 -0.291247   \n",
       "65              -0.206017 -0.450033 -0.426786 -0.370801 -0.536819 -0.131680   \n",
       "70              -0.318210 -0.298001 -0.444545 -0.356494 -0.451116 -0.394219   \n",
       "75              -0.631641 -0.564883 -0.648337 -0.570240 -0.509978 -0.690901   \n",
       "80              -0.196381 -0.297853 -0.601666 -0.855151 -0.656304 -0.710389   \n",
       "85              -0.236255 -0.017278  0.109955 -0.177437 -0.270171 -0.232691   \n",
       "\n",
       "Lookback Period        50        55        60        65        70        75  \\\n",
       "Holding Period                                                                \n",
       "20              -0.015771  0.018017  0.055586 -0.093076 -0.091960  0.086202   \n",
       "25               0.345740  0.420713  0.316453  0.338491  0.311224 -0.081075   \n",
       "30               0.110072  0.128934  0.233053  0.229879  0.352442  0.399556   \n",
       "35               0.341147  0.476158  0.440549  0.378286  0.084437  0.003543   \n",
       "40              -0.078666  0.093997  0.309298  0.144018 -0.025258 -0.056320   \n",
       "45               0.474075  0.483056  0.481988  0.443656  0.484713  0.490460   \n",
       "50               0.393442  0.607183  0.546785  0.516785  0.233110  0.432484   \n",
       "55              -0.214605  0.005517 -0.204439 -0.121295  0.094348  0.022490   \n",
       "60              -0.296997 -0.294340  0.205928  0.277786  0.016349 -0.191714   \n",
       "65              -0.223126 -0.151281 -0.201045  0.453793  0.398709  0.373011   \n",
       "70              -0.329450 -0.261575 -0.196705 -0.281555  0.153653  0.049043   \n",
       "75              -0.613093 -0.651473 -0.675771 -0.583710 -0.605698 -0.317766   \n",
       "80              -0.710952 -0.759482 -0.680852 -0.664542 -0.653455 -0.354457   \n",
       "85              -0.108584 -0.041773 -0.146097 -0.252981 -0.267717  0.088804   \n",
       "\n",
       "Lookback Period        80        85  \n",
       "Holding Period                       \n",
       "20               0.076655  0.143128  \n",
       "25              -0.094650 -0.223975  \n",
       "30               0.186979  0.110632  \n",
       "35               0.055474  0.104060  \n",
       "40              -0.038656  0.082771  \n",
       "45               0.465898  0.335682  \n",
       "50               0.389677  0.368128  \n",
       "55               0.091561 -0.102935  \n",
       "60               0.053983  0.234133  \n",
       "65               0.100480  0.179385  \n",
       "70               0.107041  0.167772  \n",
       "75              -0.418949 -0.530052  \n",
       "80               0.090161  0.036785  \n",
       "85              -0.067515  0.678474  "
      ]
     },
     "execution_count": 17,
     "metadata": {},
     "output_type": "execute_result"
    }
   ],
   "source": [
    "ddf"
   ]
  },
  {
   "cell_type": "code",
   "execution_count": 18,
   "metadata": {
    "collapsed": true
   },
   "outputs": [],
   "source": [
    "\n",
    "\n",
    "def heatmap(df, cmap=plt.cm.gray_r):\n",
    "    fig = plt.figure()\n",
    "    ax = fig.add_subplot(111)\n",
    "    axim = ax.imshow(df.values, cmap=cmap, interpolation='nearest')\n",
    "    ax.set_xlabel(df.columns.name)\n",
    "    ax.set_xticks(np.arange(len(df.columns)))\n",
    "    ax.set_xticklabels(list(df.columns))\n",
    "    ax.set_ylabel(df.index.name)\n",
    "    ax.set_yticks(np.arange(len(df.index)))\n",
    "    ax.set_yticklabels(list(df.index))\n",
    "    plt.colorbar(axim)"
   ]
  },
  {
   "cell_type": "code",
   "execution_count": 19,
   "metadata": {
    "collapsed": true
   },
   "outputs": [],
   "source": [
    "heatmap(ddf)\n",
    "plt.show()"
   ]
  },
  {
   "cell_type": "markdown",
   "metadata": {},
   "source": [
    "### Future contract rolling"
   ]
  },
  {
   "cell_type": "code",
   "execution_count": 20,
   "metadata": {
    "collapsed": true
   },
   "outputs": [],
   "source": [
    "pd.options.display.max_rows = 10"
   ]
  },
  {
   "cell_type": "code",
   "execution_count": 21,
   "metadata": {
    "collapsed": false
   },
   "outputs": [
    {
     "data": {
      "text/plain": [
       "Date\n",
       "2010-01-04     955.281067\n",
       "2010-01-05     957.809753\n",
       "2010-01-06     958.483963\n",
       "2010-01-07     962.530136\n",
       "2010-01-08     965.733109\n",
       "                 ...     \n",
       "2018-09-11    2890.499878\n",
       "2018-09-12    2891.199951\n",
       "2018-09-13    2908.299866\n",
       "2018-09-14    2908.800049\n",
       "2018-09-17    2893.399963\n",
       "Name: Adj Close, Length: 2192, dtype: float64"
      ]
     },
     "execution_count": 21,
     "metadata": {},
     "output_type": "execute_result"
    }
   ],
   "source": [
    "#import pandas.io.data as web\n",
    "# Approximate price of S&P 500 index\n",
    "px = web.get_data_yahoo('SPY')['Adj Close'] * 10\n",
    "px"
   ]
  },
  {
   "cell_type": "code",
   "execution_count": 22,
   "metadata": {
    "collapsed": false
   },
   "outputs": [],
   "source": [
    "from datetime import datetime\n",
    "expiry = {'ESU2': datetime(2012, 9, 21),\n",
    "          'ESZ2': datetime(2012, 12, 21)}\n",
    "expiry = pd.Series(expiry).sort_values()"
   ]
  },
  {
   "cell_type": "code",
   "execution_count": 23,
   "metadata": {
    "collapsed": false
   },
   "outputs": [
    {
     "data": {
      "text/plain": [
       "ESU2   2012-09-21\n",
       "ESZ2   2012-12-21\n",
       "dtype: datetime64[ns]"
      ]
     },
     "execution_count": 23,
     "metadata": {},
     "output_type": "execute_result"
    }
   ],
   "source": [
    "expiry"
   ]
  },
  {
   "cell_type": "code",
   "execution_count": 24,
   "metadata": {
    "collapsed": false
   },
   "outputs": [],
   "source": [
    "np.random.seed(12347)\n",
    "N = 200\n",
    "walk = (np.random.randint(0, 200, size=N) - 100) * 0.25\n",
    "perturb = (np.random.randint(0, 20, size=N) - 10) * 0.25\n",
    "walk = walk.cumsum()\n",
    "\n",
    "rng = pd.date_range(px.index[0], periods=len(px) + N, freq='B')\n",
    "near = np.concatenate([px.values, px.values[-1] + walk])\n",
    "far = np.concatenate([px.values, px.values[-1] + walk + perturb])\n",
    "prices = pd.DataFrame({'ESU2': near, 'ESZ2': far}, index=rng)"
   ]
  },
  {
   "cell_type": "code",
   "execution_count": 25,
   "metadata": {
    "collapsed": false
   },
   "outputs": [
    {
     "data": {
      "text/html": [
       "<div>\n",
       "<style scoped>\n",
       "    .dataframe tbody tr th:only-of-type {\n",
       "        vertical-align: middle;\n",
       "    }\n",
       "\n",
       "    .dataframe tbody tr th {\n",
       "        vertical-align: top;\n",
       "    }\n",
       "\n",
       "    .dataframe thead th {\n",
       "        text-align: right;\n",
       "    }\n",
       "</style>\n",
       "<table border=\"1\" class=\"dataframe\">\n",
       "  <thead>\n",
       "    <tr style=\"text-align: right;\">\n",
       "      <th></th>\n",
       "      <th>ESU2</th>\n",
       "      <th>ESZ2</th>\n",
       "    </tr>\n",
       "  </thead>\n",
       "  <tbody>\n",
       "    <tr>\n",
       "      <th>2019-02-27</th>\n",
       "      <td>2922.649963</td>\n",
       "      <td>2924.399963</td>\n",
       "    </tr>\n",
       "    <tr>\n",
       "      <th>2019-02-28</th>\n",
       "      <td>2908.899963</td>\n",
       "      <td>2911.149963</td>\n",
       "    </tr>\n",
       "    <tr>\n",
       "      <th>2019-03-01</th>\n",
       "      <td>2916.899963</td>\n",
       "      <td>2918.649963</td>\n",
       "    </tr>\n",
       "    <tr>\n",
       "      <th>2019-03-04</th>\n",
       "      <td>2933.399963</td>\n",
       "      <td>2932.649963</td>\n",
       "    </tr>\n",
       "    <tr>\n",
       "      <th>2019-03-05</th>\n",
       "      <td>2913.399963</td>\n",
       "      <td>2911.149963</td>\n",
       "    </tr>\n",
       "  </tbody>\n",
       "</table>\n",
       "</div>"
      ],
      "text/plain": [
       "                   ESU2         ESZ2\n",
       "2019-02-27  2922.649963  2924.399963\n",
       "2019-02-28  2908.899963  2911.149963\n",
       "2019-03-01  2916.899963  2918.649963\n",
       "2019-03-04  2933.399963  2932.649963\n",
       "2019-03-05  2913.399963  2911.149963"
      ]
     },
     "execution_count": 25,
     "metadata": {},
     "output_type": "execute_result"
    }
   ],
   "source": [
    "prices.tail()"
   ]
  },
  {
   "cell_type": "code",
   "execution_count": 26,
   "metadata": {
    "collapsed": true
   },
   "outputs": [],
   "source": [
    "def get_roll_weights(start, expiry, items, roll_periods=5):\n",
    "    # start : first date to compute weighting DataFrame\n",
    "    # expiry : Series of ticker -> expiration dates\n",
    "    # items : sequence of contract names\n",
    "\n",
    "    dates = pd.date_range(start, expiry[-1], freq='B')\n",
    "    weights = pd.DataFrame(np.zeros((len(dates), len(items))),\n",
    "                        index=dates, columns=items)\n",
    "\n",
    "    prev_date = weights.index[0]\n",
    "    for i, (item, ex_date) in enumerate(expiry.iteritems()):\n",
    "        if i < len(expiry) - 1:\n",
    "            weights.ix[prev_date:ex_date - pd.offsets.BDay(), item] = 1\n",
    "            roll_rng = pd.date_range(end=ex_date - pd.offsets.BDay(),\n",
    "                                     periods=roll_periods + 1, freq='B')\n",
    "\n",
    "            decay_weights = np.linspace(0, 1, roll_periods + 1)\n",
    "            weights.ix[roll_rng, item] = 1 - decay_weights\n",
    "            weights.ix[roll_rng, expiry.index[i + 1]] = decay_weights\n",
    "        else:\n",
    "            weights.ix[prev_date:, item] = 1\n",
    "\n",
    "        prev_date = ex_date\n",
    "\n",
    "    return weights"
   ]
  },
  {
   "cell_type": "code",
   "execution_count": 27,
   "metadata": {
    "collapsed": false
   },
   "outputs": [
    {
     "name": "stderr",
     "output_type": "stream",
     "text": [
      "C:\\Users\\LubichJD\\Anaconda2\\lib\\site-packages\\ipykernel\\__main__.py:13: DeprecationWarning: \n",
      ".ix is deprecated. Please use\n",
      ".loc for label based indexing or\n",
      ".iloc for positional indexing\n",
      "\n",
      "See the documentation here:\n",
      "http://pandas.pydata.org/pandas-docs/stable/indexing.html#ix-indexer-is-deprecated\n",
      "C:\\Users\\LubichJD\\Anaconda2\\lib\\site-packages\\ipykernel\\__main__.py:18: DeprecationWarning: \n",
      ".ix is deprecated. Please use\n",
      ".loc for label based indexing or\n",
      ".iloc for positional indexing\n",
      "\n",
      "See the documentation here:\n",
      "http://pandas.pydata.org/pandas-docs/stable/indexing.html#ix-indexer-is-deprecated\n",
      "C:\\Users\\LubichJD\\Anaconda2\\lib\\site-packages\\ipykernel\\__main__.py:19: DeprecationWarning: \n",
      ".ix is deprecated. Please use\n",
      ".loc for label based indexing or\n",
      ".iloc for positional indexing\n",
      "\n",
      "See the documentation here:\n",
      "http://pandas.pydata.org/pandas-docs/stable/indexing.html#ix-indexer-is-deprecated\n",
      "C:\\Users\\LubichJD\\Anaconda2\\lib\\site-packages\\ipykernel\\__main__.py:21: DeprecationWarning: \n",
      ".ix is deprecated. Please use\n",
      ".loc for label based indexing or\n",
      ".iloc for positional indexing\n",
      "\n",
      "See the documentation here:\n",
      "http://pandas.pydata.org/pandas-docs/stable/indexing.html#ix-indexer-is-deprecated\n"
     ]
    },
    {
     "data": {
      "text/html": [
       "<div>\n",
       "<style scoped>\n",
       "    .dataframe tbody tr th:only-of-type {\n",
       "        vertical-align: middle;\n",
       "    }\n",
       "\n",
       "    .dataframe tbody tr th {\n",
       "        vertical-align: top;\n",
       "    }\n",
       "\n",
       "    .dataframe thead th {\n",
       "        text-align: right;\n",
       "    }\n",
       "</style>\n",
       "<table border=\"1\" class=\"dataframe\">\n",
       "  <thead>\n",
       "    <tr style=\"text-align: right;\">\n",
       "      <th></th>\n",
       "      <th>ESU2</th>\n",
       "      <th>ESZ2</th>\n",
       "    </tr>\n",
       "  </thead>\n",
       "  <tbody>\n",
       "    <tr>\n",
       "      <th>2012-09-12</th>\n",
       "      <td>1.0</td>\n",
       "      <td>0.0</td>\n",
       "    </tr>\n",
       "    <tr>\n",
       "      <th>2012-09-13</th>\n",
       "      <td>1.0</td>\n",
       "      <td>0.0</td>\n",
       "    </tr>\n",
       "    <tr>\n",
       "      <th>2012-09-14</th>\n",
       "      <td>0.8</td>\n",
       "      <td>0.2</td>\n",
       "    </tr>\n",
       "    <tr>\n",
       "      <th>2012-09-17</th>\n",
       "      <td>0.6</td>\n",
       "      <td>0.4</td>\n",
       "    </tr>\n",
       "    <tr>\n",
       "      <th>2012-09-18</th>\n",
       "      <td>0.4</td>\n",
       "      <td>0.6</td>\n",
       "    </tr>\n",
       "    <tr>\n",
       "      <th>2012-09-19</th>\n",
       "      <td>0.2</td>\n",
       "      <td>0.8</td>\n",
       "    </tr>\n",
       "    <tr>\n",
       "      <th>2012-09-20</th>\n",
       "      <td>0.0</td>\n",
       "      <td>1.0</td>\n",
       "    </tr>\n",
       "    <tr>\n",
       "      <th>2012-09-21</th>\n",
       "      <td>0.0</td>\n",
       "      <td>1.0</td>\n",
       "    </tr>\n",
       "  </tbody>\n",
       "</table>\n",
       "</div>"
      ],
      "text/plain": [
       "            ESU2  ESZ2\n",
       "2012-09-12   1.0   0.0\n",
       "2012-09-13   1.0   0.0\n",
       "2012-09-14   0.8   0.2\n",
       "2012-09-17   0.6   0.4\n",
       "2012-09-18   0.4   0.6\n",
       "2012-09-19   0.2   0.8\n",
       "2012-09-20   0.0   1.0\n",
       "2012-09-21   0.0   1.0"
      ]
     },
     "execution_count": 27,
     "metadata": {},
     "output_type": "execute_result"
    }
   ],
   "source": [
    "weights = get_roll_weights('6/1/2012', expiry, prices.columns)\n",
    "weights.loc['2012-09-12':'2012-09-21']"
   ]
  },
  {
   "cell_type": "code",
   "execution_count": 28,
   "metadata": {
    "collapsed": true
   },
   "outputs": [],
   "source": [
    "rolled_returns = (prices.pct_change() * weights).sum(1)"
   ]
  }
 ],
 "metadata": {
  "kernelspec": {
   "display_name": "Python 2",
   "language": "python",
   "name": "python2"
  },
  "language_info": {
   "codemirror_mode": {
    "name": "ipython",
    "version": 2
   },
   "file_extension": ".py",
   "mimetype": "text/x-python",
   "name": "python",
   "nbconvert_exporter": "python",
   "pygments_lexer": "ipython2",
   "version": "2.7.13"
  }
 },
 "nbformat": 4,
 "nbformat_minor": 1
}
